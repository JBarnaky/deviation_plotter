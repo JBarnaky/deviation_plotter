{
 "cells": [
  {
   "cell_type": "code",
   "execution_count": null,
   "metadata": {},
   "outputs": [],
   "source": [
    "# import the plotter class\n",
    "from src.plotter import Plotter\n",
    "\n",
    "# create an instance of the plotter class with the json url\n",
    "json_url = \"https://ai-process-sandy.s3.eu-west-1.amazonaws.com/purge/deviation.json\"\n",
    "plotter = Plotter(json_url)\n",
    "\n",
    "# call the draw_plots method and get the plot paths\n",
    "plot_paths = plotter.draw_plots()\n",
    "\n",
    "# display the plots in the notebook\n",
    "from IPython.display import Image\n",
    "for plot_path in plot_paths:\n",
    "    display(Image(plot_path))"
   ]
  }
 ],
 "metadata": {
  "language_info": {
   "name": "python"
  }
 },
 "nbformat": 4,
 "nbformat_minor": 2
}
